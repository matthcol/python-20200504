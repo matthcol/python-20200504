{
 "cells": [
  {
   "cell_type": "markdown",
   "metadata": {},
   "source": [
    "# Entrées/Sorties\n",
    "- sys (environnement, ligne de commande)\n",
    "- os.path (deprecated) => pathlib"
   ]
  },
  {
   "cell_type": "code",
   "execution_count": 19,
   "metadata": {},
   "outputs": [],
   "source": [
    "from pathlib import Path\n",
    "from datetime import datetime"
   ]
  },
  {
   "cell_type": "code",
   "execution_count": 6,
   "metadata": {},
   "outputs": [
    {
     "data": {
      "text/plain": [
       "WindowsPath('.')"
      ]
     },
     "execution_count": 6,
     "metadata": {},
     "output_type": "execute_result"
    }
   ],
   "source": [
    "currentDir = Path('.')\n",
    "currentDir"
   ]
  },
  {
   "cell_type": "code",
   "execution_count": 5,
   "metadata": {},
   "outputs": [
    {
     "data": {
      "text/plain": [
       "WindowsPath('.')"
      ]
     },
     "execution_count": 5,
     "metadata": {},
     "output_type": "execute_result"
    }
   ],
   "source": [
    "currentDir.parent"
   ]
  },
  {
   "cell_type": "code",
   "execution_count": 7,
   "metadata": {},
   "outputs": [
    {
     "data": {
      "text/plain": [
       "WindowsPath('C:/Users/Matthias/Documents/Python/Stage202005')"
      ]
     },
     "execution_count": 7,
     "metadata": {},
     "output_type": "execute_result"
    }
   ],
   "source": [
    "currentDirAbs = currentDir.absolute()\n",
    "currentDirAbs"
   ]
  },
  {
   "cell_type": "code",
   "execution_count": 8,
   "metadata": {},
   "outputs": [
    {
     "data": {
      "text/plain": [
       "WindowsPath('C:/Users/Matthias/Documents/Python')"
      ]
     },
     "execution_count": 8,
     "metadata": {},
     "output_type": "execute_result"
    }
   ],
   "source": [
    "currentDirAbs.parent"
   ]
  },
  {
   "cell_type": "code",
   "execution_count": 21,
   "metadata": {
    "collapsed": true
   },
   "outputs": [
    {
     "name": "stdout",
     "output_type": "stream",
     "text": [
      ".git\n",
      "\tdirectory: True\n",
      "\tfichier: False\n",
      "\tsize 4096\n",
      "\tlast modified 2020-05-05 16:47:54.542014\n",
      ".ipynb_checkpoints\n",
      "\tdirectory: True\n",
      "\tfichier: False\n",
      "\tsize 4096\n",
      "\tlast modified 2020-05-05 16:47:11.544085\n",
      ".~lock.Python2020intro.pptx#\n",
      "\tdirectory: False\n",
      "\tfichier: True\n",
      "\tsize 100\n",
      "\tlast modified 2020-05-04 09:05:01.408131\n",
      "carremagic_app.py\n",
      "\tdirectory: False\n",
      "\tfichier: True\n",
      "\tsize 312\n",
      "\tlast modified 2020-05-05 09:57:39.105395\n",
      "carremagic_ex.py\n",
      "\tdirectory: False\n",
      "\tfichier: True\n",
      "\tsize 2504\n",
      "\tlast modified 2020-05-05 10:09:46.231998\n",
      "carremagic_fun.py\n",
      "\tdirectory: False\n",
      "\tfichier: True\n",
      "\tsize 1161\n",
      "\tlast modified 2020-05-05 10:08:18.215682\n",
      "carremagique.ipynb\n",
      "\tdirectory: False\n",
      "\tfichier: True\n",
      "\tsize 3920\n",
      "\tlast modified 2020-05-05 09:25:07.890706\n",
      "DateTimeLocale.ipynb\n",
      "\tdirectory: False\n",
      "\tfichier: True\n",
      "\tsize 100318\n",
      "\tlast modified 2020-05-05 14:29:45.271973\n",
      "dummy.py\n",
      "\tdirectory: False\n",
      "\tfichier: True\n",
      "\tsize 183\n",
      "\tlast modified 2020-05-05 12:48:29.391999\n",
      "entrees_sorties.ipynb\n",
      "\tdirectory: False\n",
      "\tfichier: True\n",
      "\tsize 6150\n",
      "\tlast modified 2020-05-05 16:47:19.294174\n",
      "intro.ipynb\n",
      "\tdirectory: False\n",
      "\tfichier: True\n",
      "\tsize 64067\n",
      "\tlast modified 2020-05-04 16:38:46.912502\n",
      "movies.ipynb\n",
      "\tdirectory: False\n",
      "\tfichier: True\n",
      "\tsize 11503\n",
      "\tlast modified 2020-05-05 14:00:37.998383\n",
      "movies.py\n",
      "\tdirectory: False\n",
      "\tfichier: True\n",
      "\tsize 651\n",
      "\tlast modified 2020-05-05 12:49:09.644031\n",
      "Python2020intro.pptx\n",
      "\tdirectory: False\n",
      "\tfichier: True\n",
      "\tsize 572642\n",
      "\tlast modified 2020-05-04 09:05:01.671422\n",
      "ScientificPython.ipynb\n",
      "\tdirectory: False\n",
      "\tfichier: True\n",
      "\tsize 7516\n",
      "\tlast modified 2020-05-05 14:02:12.460432\n",
      "textes.ipynb\n",
      "\tdirectory: False\n",
      "\tfichier: True\n",
      "\tsize 16064\n",
      "\tlast modified 2020-05-05 16:16:07.991608\n",
      "Untitled.ipynb\n",
      "\tdirectory: False\n",
      "\tfichier: True\n",
      "\tsize 646\n",
      "\tlast modified 2020-05-04 08:38:31.788613\n",
      "Untitled1.ipynb\n",
      "\tdirectory: False\n",
      "\tfichier: True\n",
      "\tsize 2703\n",
      "\tlast modified 2020-05-05 14:19:57.410032\n",
      "villes.py\n",
      "\tdirectory: False\n",
      "\tfichier: True\n",
      "\tsize 151\n",
      "\tlast modified 2020-05-04 10:00:43.480456\n",
      "__pycache__\n",
      "\tdirectory: True\n",
      "\tfichier: False\n",
      "\tsize 4096\n",
      "\tlast modified 2020-05-05 10:01:24.552747\n"
     ]
    }
   ],
   "source": [
    "for f in currentDir.iterdir():\n",
    "    print(f)\n",
    "    print(\"\\tdirectory:\", f.is_dir())\n",
    "    print(\"\\tfichier:\", f.is_file())\n",
    "    stats = f.stat()\n",
    "    print(\"\\tsize\", stats.st_size)\n",
    "    dateM = datetime.fromtimestamp(stats.st_mtime)\n",
    "    print(\"\\tlast modified\", dateM)"
   ]
  },
  {
   "cell_type": "code",
   "execution_count": 23,
   "metadata": {},
   "outputs": [
    {
     "name": "stdout",
     "output_type": "stream",
     "text": [
      "carremagic_app.py\n",
      "carremagic_ex.py\n",
      "carremagic_fun.py\n",
      "dummy.py\n",
      "movies.py\n",
      "villes.py\n"
     ]
    }
   ],
   "source": [
    "for f in currentDir.glob(\"*.py\"):\n",
    "    print(f)"
   ]
  },
  {
   "cell_type": "code",
   "execution_count": 26,
   "metadata": {},
   "outputs": [
    {
     "name": "stdout",
     "output_type": "stream",
     "text": [
      "csv\\flore\\inventaire-de-la-flore-sauvage-en-milieu-urbain-ville-de-toulouse.csv\n",
      "csv\\meteo\\05-station-meteo-piscine-nakache.csv\n",
      "csv\\meteo\\08-station-meteo-basso-cambo.csv\n",
      "csv\\meteo\\13-station-meteo-pech-david.csv\n",
      "csv\\meteo\\17-station-meteo-fenouillet.csv\n",
      "csv\\meteo\\41-station-meteo-avenue-de-casselardit.csv\n"
     ]
    }
   ],
   "source": [
    "for f in currentDir.glob(\"csv/**/*.csv\"):\n",
    "    print(f)"
   ]
  },
  {
   "cell_type": "code",
   "execution_count": null,
   "metadata": {},
   "outputs": [],
   "source": []
  }
 ],
 "metadata": {
  "kernelspec": {
   "display_name": "Python 3",
   "language": "python",
   "name": "python3"
  },
  "language_info": {
   "codemirror_mode": {
    "name": "ipython",
    "version": 3
   },
   "file_extension": ".py",
   "mimetype": "text/x-python",
   "name": "python",
   "nbconvert_exporter": "python",
   "pygments_lexer": "ipython3",
   "version": "3.7.4"
  }
 },
 "nbformat": 4,
 "nbformat_minor": 2
}
