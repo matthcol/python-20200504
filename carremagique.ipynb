{
 "cells": [
  {
   "cell_type": "markdown",
   "metadata": {},
   "source": [
    "# Carré magique"
   ]
  },
  {
   "cell_type": "code",
   "execution_count": 1,
   "metadata": {},
   "outputs": [],
   "source": [
    "import math\n",
    "from carremagic_ex import d_ca"
   ]
  },
  {
   "cell_type": "code",
   "execution_count": 2,
   "metadata": {},
   "outputs": [],
   "source": [
    "carre1 = [[8,1,6], [3,5,7], [2,9,4]]\n",
    "carre2 = [[8,1,6],[3,5,7], [4,9,2]]"
   ]
  },
  {
   "cell_type": "code",
   "execution_count": 3,
   "metadata": {},
   "outputs": [
    {
     "data": {
      "text/plain": [
       "15"
      ]
     },
     "execution_count": 3,
     "metadata": {},
     "output_type": "execute_result"
    }
   ],
   "source": [
    "sum(carre1[0])"
   ]
  },
  {
   "cell_type": "code",
   "execution_count": 4,
   "metadata": {},
   "outputs": [],
   "source": [
    "def isMagique(carre):\n",
    "    n = len(carre)\n",
    "    sm = n*(n**2+1)//2\n",
    "    # verifier que toutes les lignes ont une somme égale à sm\n",
    "    #for i in range(n):\n",
    "    res = all(sum(ligne)==sm for ligne in carre)\n",
    "    # verifier que toutes les colonnes ont une somme égale à sm\n",
    "    res = res and all(sum(carre[i][j] for i in range(n))==sm for j in range(n))\n",
    "    # vérifier que les 2 diagonales ont une somme à sm\n",
    "    res = res and sum(carre[i][i] for i in range(n))==sm \\\n",
    "            and sum(carre[i][-i-1] for i in range(n))==sm\n",
    "    # vérifier nbs tous utilisés une fois\n",
    "    return res"
   ]
  },
  {
   "cell_type": "code",
   "execution_count": 5,
   "metadata": {},
   "outputs": [
    {
     "name": "stdout",
     "output_type": "stream",
     "text": [
      "ca3_ok : True\n",
      "ca3_no_diag : False\n",
      "ca3_no_lig : False\n",
      "ca3_no_col : False\n",
      "ca3_no_lig_diag : False\n",
      "ca4_no : True\n",
      "albrecht_durer : True\n",
      "josep_maria_subirachs : False\n",
      "ca_5_semi_diabolik : True\n",
      "benjamin_franklin : False\n",
      "general_cazalas : True\n",
      "willem_barink_8 : True\n",
      "willem_barink_12 : True\n"
     ]
    }
   ],
   "source": [
    "for n,ca in d_ca.items():\n",
    "    m = isMagique(ca)\n",
    "    print(n,m,sep=' : ')"
   ]
  },
  {
   "cell_type": "code",
   "execution_count": null,
   "metadata": {},
   "outputs": [],
   "source": []
  }
 ],
 "metadata": {
  "kernelspec": {
   "display_name": "Python 3",
   "language": "python",
   "name": "python3"
  },
  "language_info": {
   "codemirror_mode": {
    "name": "ipython",
    "version": 3
   },
   "file_extension": ".py",
   "mimetype": "text/x-python",
   "name": "python",
   "nbconvert_exporter": "python",
   "pygments_lexer": "ipython3",
   "version": "3.7.4"
  }
 },
 "nbformat": 4,
 "nbformat_minor": 2
}
