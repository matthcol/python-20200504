{
 "cells": [
  {
   "cell_type": "markdown",
   "metadata": {},
   "source": [
    "# Carré magique"
   ]
  },
  {
   "cell_type": "code",
   "execution_count": 9,
   "metadata": {},
   "outputs": [],
   "source": [
    "carre1 = [[8,1,6], [3,5,7], [2,9,4]]\n",
    "carre2 = [[8,1,6],[3,5,7], [4,9,2]]"
   ]
  },
  {
   "cell_type": "code",
   "execution_count": 10,
   "metadata": {},
   "outputs": [
    {
     "data": {
      "text/plain": [
       "15"
      ]
     },
     "execution_count": 10,
     "metadata": {},
     "output_type": "execute_result"
    }
   ],
   "source": [
    "sum(carre1[0])"
   ]
  },
  {
   "cell_type": "code",
   "execution_count": 15,
   "metadata": {},
   "outputs": [],
   "source": [
    "def isMagique(carre):\n",
    "    n = len(carre)\n",
    "    sm = n*(n**2+1)//2\n",
    "    # verifier que toutes les lignes ont une somme égale à sm\n",
    "    for ligne in carre: \n",
    "        pass\n",
    "    for i in range(n):\n",
    "        print(sum(carre[i]))\n",
    "    # verifier que toutes les colonnes ont une somme égale à sm\n",
    "    for j in range(n):\n",
    "        print([ carre[i][j] for i in range(n)])\n",
    "    # vérifier que les 2 diagonales ont une somme à sm\n",
    "    # vérifier nbs tous utilisés une fois\n",
    "    return False"
   ]
  },
  {
   "cell_type": "code",
   "execution_count": 16,
   "metadata": {},
   "outputs": [
    {
     "name": "stdout",
     "output_type": "stream",
     "text": [
      "15\n",
      "15\n",
      "15\n",
      "[8, 3, 2]\n",
      "[1, 5, 9]\n",
      "[6, 7, 4]\n"
     ]
    },
    {
     "data": {
      "text/plain": [
       "False"
      ]
     },
     "execution_count": 16,
     "metadata": {},
     "output_type": "execute_result"
    }
   ],
   "source": [
    "isMagique(carre1)"
   ]
  }
 ],
 "metadata": {
  "kernelspec": {
   "display_name": "Python 3",
   "language": "python",
   "name": "python3"
  },
  "language_info": {
   "codemirror_mode": {
    "name": "ipython",
    "version": 3
   },
   "file_extension": ".py",
   "mimetype": "text/x-python",
   "name": "python",
   "nbconvert_exporter": "python",
   "pygments_lexer": "ipython3",
   "version": "3.7.4"
  }
 },
 "nbformat": 4,
 "nbformat_minor": 2
}
